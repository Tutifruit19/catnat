{
 "cells": [
  {
   "cell_type": "code",
   "execution_count": 1,
   "id": "b5ac79d1",
   "metadata": {},
   "outputs": [],
   "source": [
    "import numpy as np\n",
    "import pandas as pd \n",
    "import matplotlib.pyplot as plt \n",
    "import tqdm"
   ]
  },
  {
   "cell_type": "markdown",
   "id": "1b98e610",
   "metadata": {},
   "source": [
    "# 1. GETTING FAMILIAR WITH THE IBTRACS DATABASE"
   ]
  },
  {
   "cell_type": "markdown",
   "id": "f3aea855",
   "metadata": {},
   "source": [
    "## 1.1"
   ]
  },
  {
   "cell_type": "code",
   "execution_count": 2,
   "id": "20cfe783",
   "metadata": {
    "scrolled": true
   },
   "outputs": [],
   "source": [
    "datas = pd.read_csv('INPUTS/ibtracs.ALL.list.hotel1.csv',low_memory=False,header=1)"
   ]
  },
  {
   "cell_type": "code",
   "execution_count": 4,
   "id": "f32bdecc",
   "metadata": {},
   "outputs": [
    {
     "data": {
      "text/html": [
       "<div>\n",
       "<style scoped>\n",
       "    .dataframe tbody tr th:only-of-type {\n",
       "        vertical-align: middle;\n",
       "    }\n",
       "\n",
       "    .dataframe tbody tr th {\n",
       "        vertical-align: top;\n",
       "    }\n",
       "\n",
       "    .dataframe thead th {\n",
       "        text-align: right;\n",
       "    }\n",
       "</style>\n",
       "<table border=\"1\" class=\"dataframe\">\n",
       "  <thead>\n",
       "    <tr style=\"text-align: right;\">\n",
       "      <th></th>\n",
       "      <th>SID</th>\n",
       "      <th>SEASON</th>\n",
       "      <th>NUMBER</th>\n",
       "      <th>BASIN</th>\n",
       "      <th>SUBBASIN</th>\n",
       "      <th>NAME</th>\n",
       "      <th>ISO_TIME</th>\n",
       "      <th>NATURE</th>\n",
       "      <th>LAT</th>\n",
       "      <th>LON</th>\n",
       "      <th>...</th>\n",
       "      <th>BOM_GUST_PER</th>\n",
       "      <th>REUNION_GUST</th>\n",
       "      <th>REUNION_GUST_PER</th>\n",
       "      <th>USA_SEAHGT</th>\n",
       "      <th>USA_SEARAD_NE</th>\n",
       "      <th>USA_SEARAD_SE</th>\n",
       "      <th>USA_SEARAD_SW</th>\n",
       "      <th>USA_SEARAD_NW</th>\n",
       "      <th>STORM_SPEED</th>\n",
       "      <th>STORM_DIR</th>\n",
       "    </tr>\n",
       "  </thead>\n",
       "  <tbody>\n",
       "    <tr>\n",
       "      <th>0</th>\n",
       "      <td>1842298N11080</td>\n",
       "      <td>1842</td>\n",
       "      <td>1</td>\n",
       "      <td>NI</td>\n",
       "      <td>BB</td>\n",
       "      <td>NOT_NAMED</td>\n",
       "      <td>1842-10-25 03:00:00</td>\n",
       "      <td>NR</td>\n",
       "      <td>10.9000</td>\n",
       "      <td>80.3000</td>\n",
       "      <td>...</td>\n",
       "      <td></td>\n",
       "      <td></td>\n",
       "      <td></td>\n",
       "      <td></td>\n",
       "      <td></td>\n",
       "      <td></td>\n",
       "      <td></td>\n",
       "      <td></td>\n",
       "      <td>9</td>\n",
       "      <td>266</td>\n",
       "    </tr>\n",
       "    <tr>\n",
       "      <th>1</th>\n",
       "      <td>1842298N11080</td>\n",
       "      <td>1842</td>\n",
       "      <td>1</td>\n",
       "      <td>NI</td>\n",
       "      <td>BB</td>\n",
       "      <td>NOT_NAMED</td>\n",
       "      <td>1842-10-25 06:00:00</td>\n",
       "      <td>NR</td>\n",
       "      <td>10.8709</td>\n",
       "      <td>79.8265</td>\n",
       "      <td>...</td>\n",
       "      <td></td>\n",
       "      <td></td>\n",
       "      <td></td>\n",
       "      <td></td>\n",
       "      <td></td>\n",
       "      <td></td>\n",
       "      <td></td>\n",
       "      <td></td>\n",
       "      <td>9</td>\n",
       "      <td>267</td>\n",
       "    </tr>\n",
       "    <tr>\n",
       "      <th>2</th>\n",
       "      <td>1842298N11080</td>\n",
       "      <td>1842</td>\n",
       "      <td>1</td>\n",
       "      <td>NI</td>\n",
       "      <td>BB</td>\n",
       "      <td>NOT_NAMED</td>\n",
       "      <td>1842-10-25 09:00:00</td>\n",
       "      <td>NR</td>\n",
       "      <td>10.8431</td>\n",
       "      <td>79.3524</td>\n",
       "      <td>...</td>\n",
       "      <td></td>\n",
       "      <td></td>\n",
       "      <td></td>\n",
       "      <td></td>\n",
       "      <td></td>\n",
       "      <td></td>\n",
       "      <td></td>\n",
       "      <td></td>\n",
       "      <td>9</td>\n",
       "      <td>267</td>\n",
       "    </tr>\n",
       "    <tr>\n",
       "      <th>3</th>\n",
       "      <td>1842298N11080</td>\n",
       "      <td>1842</td>\n",
       "      <td>1</td>\n",
       "      <td>NI</td>\n",
       "      <td>BB</td>\n",
       "      <td>NOT_NAMED</td>\n",
       "      <td>1842-10-25 12:00:00</td>\n",
       "      <td>NR</td>\n",
       "      <td>10.8188</td>\n",
       "      <td>78.8772</td>\n",
       "      <td>...</td>\n",
       "      <td></td>\n",
       "      <td></td>\n",
       "      <td></td>\n",
       "      <td></td>\n",
       "      <td></td>\n",
       "      <td></td>\n",
       "      <td></td>\n",
       "      <td></td>\n",
       "      <td>9</td>\n",
       "      <td>267</td>\n",
       "    </tr>\n",
       "    <tr>\n",
       "      <th>4</th>\n",
       "      <td>1842298N11080</td>\n",
       "      <td>1842</td>\n",
       "      <td>1</td>\n",
       "      <td>NI</td>\n",
       "      <td>BB</td>\n",
       "      <td>NOT_NAMED</td>\n",
       "      <td>1842-10-25 15:00:00</td>\n",
       "      <td>NR</td>\n",
       "      <td>10.8000</td>\n",
       "      <td>78.4000</td>\n",
       "      <td>...</td>\n",
       "      <td></td>\n",
       "      <td></td>\n",
       "      <td></td>\n",
       "      <td></td>\n",
       "      <td></td>\n",
       "      <td></td>\n",
       "      <td></td>\n",
       "      <td></td>\n",
       "      <td>9</td>\n",
       "      <td>268</td>\n",
       "    </tr>\n",
       "    <tr>\n",
       "      <th>...</th>\n",
       "      <td>...</td>\n",
       "      <td>...</td>\n",
       "      <td>...</td>\n",
       "      <td>...</td>\n",
       "      <td>...</td>\n",
       "      <td>...</td>\n",
       "      <td>...</td>\n",
       "      <td>...</td>\n",
       "      <td>...</td>\n",
       "      <td>...</td>\n",
       "      <td>...</td>\n",
       "      <td>...</td>\n",
       "      <td>...</td>\n",
       "      <td>...</td>\n",
       "      <td>...</td>\n",
       "      <td>...</td>\n",
       "      <td>...</td>\n",
       "      <td>...</td>\n",
       "      <td>...</td>\n",
       "      <td>...</td>\n",
       "      <td>...</td>\n",
       "    </tr>\n",
       "    <tr>\n",
       "      <th>680887</th>\n",
       "      <td>2019043S14165</td>\n",
       "      <td>2019</td>\n",
       "      <td>9</td>\n",
       "      <td>SP</td>\n",
       "      <td>MM</td>\n",
       "      <td>OMA</td>\n",
       "      <td>2019-02-13 12:00:00</td>\n",
       "      <td>NR</td>\n",
       "      <td>-14.0000</td>\n",
       "      <td>165.0000</td>\n",
       "      <td>...</td>\n",
       "      <td></td>\n",
       "      <td></td>\n",
       "      <td></td>\n",
       "      <td></td>\n",
       "      <td></td>\n",
       "      <td></td>\n",
       "      <td></td>\n",
       "      <td></td>\n",
       "      <td>2</td>\n",
       "      <td>100</td>\n",
       "    </tr>\n",
       "    <tr>\n",
       "      <th>680888</th>\n",
       "      <td>2019043S14165</td>\n",
       "      <td>2019</td>\n",
       "      <td>9</td>\n",
       "      <td>SP</td>\n",
       "      <td>MM</td>\n",
       "      <td>OMA</td>\n",
       "      <td>2019-02-13 15:00:00</td>\n",
       "      <td>NR</td>\n",
       "      <td>-14.3051</td>\n",
       "      <td>165.1850</td>\n",
       "      <td>...</td>\n",
       "      <td></td>\n",
       "      <td></td>\n",
       "      <td></td>\n",
       "      <td></td>\n",
       "      <td></td>\n",
       "      <td></td>\n",
       "      <td></td>\n",
       "      <td></td>\n",
       "      <td>8</td>\n",
       "      <td>151</td>\n",
       "    </tr>\n",
       "    <tr>\n",
       "      <th>680889</th>\n",
       "      <td>2019043S14165</td>\n",
       "      <td>2019</td>\n",
       "      <td>9</td>\n",
       "      <td>SP</td>\n",
       "      <td>MM</td>\n",
       "      <td>OMA</td>\n",
       "      <td>2019-02-13 18:00:00</td>\n",
       "      <td>NR</td>\n",
       "      <td>-14.7000</td>\n",
       "      <td>165.4000</td>\n",
       "      <td>...</td>\n",
       "      <td></td>\n",
       "      <td></td>\n",
       "      <td></td>\n",
       "      <td></td>\n",
       "      <td></td>\n",
       "      <td></td>\n",
       "      <td></td>\n",
       "      <td></td>\n",
       "      <td>6</td>\n",
       "      <td>149</td>\n",
       "    </tr>\n",
       "    <tr>\n",
       "      <th>680890</th>\n",
       "      <td>2019043S14165</td>\n",
       "      <td>2019</td>\n",
       "      <td>9</td>\n",
       "      <td>SP</td>\n",
       "      <td>MM</td>\n",
       "      <td>OMA</td>\n",
       "      <td>2019-02-13 21:00:00</td>\n",
       "      <td>NR</td>\n",
       "      <td>-14.8024</td>\n",
       "      <td>165.4930</td>\n",
       "      <td>...</td>\n",
       "      <td></td>\n",
       "      <td></td>\n",
       "      <td></td>\n",
       "      <td></td>\n",
       "      <td></td>\n",
       "      <td></td>\n",
       "      <td></td>\n",
       "      <td></td>\n",
       "      <td>1</td>\n",
       "      <td>90</td>\n",
       "    </tr>\n",
       "    <tr>\n",
       "      <th>680891</th>\n",
       "      <td>2019043S14165</td>\n",
       "      <td>2019</td>\n",
       "      <td>9</td>\n",
       "      <td>SP</td>\n",
       "      <td>MM</td>\n",
       "      <td>OMA</td>\n",
       "      <td>2019-02-14 00:00:00</td>\n",
       "      <td>NR</td>\n",
       "      <td>-14.7000</td>\n",
       "      <td>165.5000</td>\n",
       "      <td>...</td>\n",
       "      <td></td>\n",
       "      <td></td>\n",
       "      <td></td>\n",
       "      <td></td>\n",
       "      <td></td>\n",
       "      <td></td>\n",
       "      <td></td>\n",
       "      <td></td>\n",
       "      <td>2</td>\n",
       "      <td>12</td>\n",
       "    </tr>\n",
       "  </tbody>\n",
       "</table>\n",
       "<p>680892 rows × 163 columns</p>\n",
       "</div>"
      ],
      "text/plain": [
       "                  SID  SEASON  NUMBER BASIN SUBBASIN       NAME  \\\n",
       "0       1842298N11080    1842       1    NI       BB  NOT_NAMED   \n",
       "1       1842298N11080    1842       1    NI       BB  NOT_NAMED   \n",
       "2       1842298N11080    1842       1    NI       BB  NOT_NAMED   \n",
       "3       1842298N11080    1842       1    NI       BB  NOT_NAMED   \n",
       "4       1842298N11080    1842       1    NI       BB  NOT_NAMED   \n",
       "...               ...     ...     ...   ...      ...        ...   \n",
       "680887  2019043S14165    2019       9    SP       MM        OMA   \n",
       "680888  2019043S14165    2019       9    SP       MM        OMA   \n",
       "680889  2019043S14165    2019       9    SP       MM        OMA   \n",
       "680890  2019043S14165    2019       9    SP       MM        OMA   \n",
       "680891  2019043S14165    2019       9    SP       MM        OMA   \n",
       "\n",
       "                   ISO_TIME NATURE      LAT       LON  ... BOM_GUST_PER  \\\n",
       "0       1842-10-25 03:00:00     NR  10.9000   80.3000  ...                \n",
       "1       1842-10-25 06:00:00     NR  10.8709   79.8265  ...                \n",
       "2       1842-10-25 09:00:00     NR  10.8431   79.3524  ...                \n",
       "3       1842-10-25 12:00:00     NR  10.8188   78.8772  ...                \n",
       "4       1842-10-25 15:00:00     NR  10.8000   78.4000  ...                \n",
       "...                     ...    ...      ...       ...  ...          ...   \n",
       "680887  2019-02-13 12:00:00     NR -14.0000  165.0000  ...                \n",
       "680888  2019-02-13 15:00:00     NR -14.3051  165.1850  ...                \n",
       "680889  2019-02-13 18:00:00     NR -14.7000  165.4000  ...                \n",
       "680890  2019-02-13 21:00:00     NR -14.8024  165.4930  ...                \n",
       "680891  2019-02-14 00:00:00     NR -14.7000  165.5000  ...                \n",
       "\n",
       "       REUNION_GUST REUNION_GUST_PER USA_SEAHGT  USA_SEARAD_NE USA_SEARAD_SE  \\\n",
       "0                                                                              \n",
       "1                                                                              \n",
       "2                                                                              \n",
       "3                                                                              \n",
       "4                                                                              \n",
       "...             ...              ...        ...            ...           ...   \n",
       "680887                                                                         \n",
       "680888                                                                         \n",
       "680889                                                                         \n",
       "680890                                                                         \n",
       "680891                                                                         \n",
       "\n",
       "       USA_SEARAD_SW USA_SEARAD_NW STORM_SPEED STORM_DIR  \n",
       "0                                            9       266  \n",
       "1                                            9       267  \n",
       "2                                            9       267  \n",
       "3                                            9       267  \n",
       "4                                            9       268  \n",
       "...              ...           ...         ...       ...  \n",
       "680887                                       2       100  \n",
       "680888                                       8       151  \n",
       "680889                                       6       149  \n",
       "680890                                       1        90  \n",
       "680891                                       2        12  \n",
       "\n",
       "[680892 rows x 163 columns]"
      ]
     },
     "execution_count": 4,
     "metadata": {},
     "output_type": "execute_result"
    }
   ],
   "source": [
    "datas"
   ]
  },
  {
   "cell_type": "markdown",
   "id": "5fb2c472",
   "metadata": {},
   "source": [
    "## 1.2"
   ]
  },
  {
   "cell_type": "code",
   "execution_count": 5,
   "id": "dc433012",
   "metadata": {
    "scrolled": true
   },
   "outputs": [
    {
     "name": "stdout",
     "output_type": "stream",
     "text": [
      "Il y'a 680892 lignes et 163 colonnes.\n"
     ]
    }
   ],
   "source": [
    "print(\"Il y'a \"+str(np.shape(datas)[0])+\" lignes et \"+str(np.shape(datas)[1])+\" colonnes.\")"
   ]
  },
  {
   "cell_type": "markdown",
   "id": "46f9a96d",
   "metadata": {},
   "source": [
    "## 1.3"
   ]
  },
  {
   "cell_type": "code",
   "execution_count": 6,
   "id": "3b36db39",
   "metadata": {},
   "outputs": [
    {
     "data": {
      "text/plain": [
       "<bound method NDFrame.describe of                   SID  SEASON  NUMBER BASIN SUBBASIN       NAME  \\\n",
       "0       1842298N11080    1842       1    NI       BB  NOT_NAMED   \n",
       "1       1842298N11080    1842       1    NI       BB  NOT_NAMED   \n",
       "2       1842298N11080    1842       1    NI       BB  NOT_NAMED   \n",
       "3       1842298N11080    1842       1    NI       BB  NOT_NAMED   \n",
       "4       1842298N11080    1842       1    NI       BB  NOT_NAMED   \n",
       "...               ...     ...     ...   ...      ...        ...   \n",
       "680887  2019043S14165    2019       9    SP       MM        OMA   \n",
       "680888  2019043S14165    2019       9    SP       MM        OMA   \n",
       "680889  2019043S14165    2019       9    SP       MM        OMA   \n",
       "680890  2019043S14165    2019       9    SP       MM        OMA   \n",
       "680891  2019043S14165    2019       9    SP       MM        OMA   \n",
       "\n",
       "                   ISO_TIME NATURE      LAT       LON  ... BOM_GUST_PER  \\\n",
       "0       1842-10-25 03:00:00     NR  10.9000   80.3000  ...                \n",
       "1       1842-10-25 06:00:00     NR  10.8709   79.8265  ...                \n",
       "2       1842-10-25 09:00:00     NR  10.8431   79.3524  ...                \n",
       "3       1842-10-25 12:00:00     NR  10.8188   78.8772  ...                \n",
       "4       1842-10-25 15:00:00     NR  10.8000   78.4000  ...                \n",
       "...                     ...    ...      ...       ...  ...          ...   \n",
       "680887  2019-02-13 12:00:00     NR -14.0000  165.0000  ...                \n",
       "680888  2019-02-13 15:00:00     NR -14.3051  165.1850  ...                \n",
       "680889  2019-02-13 18:00:00     NR -14.7000  165.4000  ...                \n",
       "680890  2019-02-13 21:00:00     NR -14.8024  165.4930  ...                \n",
       "680891  2019-02-14 00:00:00     NR -14.7000  165.5000  ...                \n",
       "\n",
       "       REUNION_GUST REUNION_GUST_PER USA_SEAHGT  USA_SEARAD_NE USA_SEARAD_SE  \\\n",
       "0                                                                              \n",
       "1                                                                              \n",
       "2                                                                              \n",
       "3                                                                              \n",
       "4                                                                              \n",
       "...             ...              ...        ...            ...           ...   \n",
       "680887                                                                         \n",
       "680888                                                                         \n",
       "680889                                                                         \n",
       "680890                                                                         \n",
       "680891                                                                         \n",
       "\n",
       "       USA_SEARAD_SW USA_SEARAD_NW STORM_SPEED STORM_DIR  \n",
       "0                                            9       266  \n",
       "1                                            9       267  \n",
       "2                                            9       267  \n",
       "3                                            9       267  \n",
       "4                                            9       268  \n",
       "...              ...           ...         ...       ...  \n",
       "680887                                       2       100  \n",
       "680888                                       8       151  \n",
       "680889                                       6       149  \n",
       "680890                                       1        90  \n",
       "680891                                       2        12  \n",
       "\n",
       "[680892 rows x 163 columns]>"
      ]
     },
     "execution_count": 6,
     "metadata": {},
     "output_type": "execute_result"
    }
   ],
   "source": [
    "datas.describe"
   ]
  },
  {
   "cell_type": "markdown",
   "id": "b238d488",
   "metadata": {},
   "source": [
    "## 1.4"
   ]
  },
  {
   "cell_type": "code",
   "execution_count": 7,
   "id": "c242ded2",
   "metadata": {},
   "outputs": [
    {
     "name": "stdout",
     "output_type": "stream",
     "text": [
      "Le plus ancien cyclone a été relevé en: 1842\n"
     ]
    }
   ],
   "source": [
    "print(\"Le plus ancien cyclone a été relevé en: \"+str(min(datas[\"SEASON\"])))"
   ]
  },
  {
   "cell_type": "markdown",
   "id": "ffd2c823",
   "metadata": {},
   "source": [
    "## 1.5"
   ]
  },
  {
   "cell_type": "code",
   "execution_count": 8,
   "id": "ffa1051c",
   "metadata": {
    "scrolled": true
   },
   "outputs": [
    {
     "data": {
      "text/plain": [
       "TS    479658\n",
       "NR    158743\n",
       "ET     26497\n",
       "DS      6787\n",
       "MX      6671\n",
       "SS      2536\n",
       "Name: NATURE, dtype: int64"
      ]
     },
     "execution_count": 8,
     "metadata": {},
     "output_type": "execute_result"
    }
   ],
   "source": [
    "datas[\"NATURE\"].value_counts()"
   ]
  },
  {
   "cell_type": "markdown",
   "id": "12dc2fc8",
   "metadata": {},
   "source": [
    "Les systèmes tropicales (\"TS\") sont les plus prédominants."
   ]
  },
  {
   "cell_type": "markdown",
   "id": "47b55d99",
   "metadata": {},
   "source": [
    "# 2. ANALYSIS OF TROPICAL SYSTEMS PER BASIN"
   ]
  },
  {
   "cell_type": "markdown",
   "id": "8a1c0e73",
   "metadata": {},
   "source": [
    "## 2.1"
   ]
  },
  {
   "cell_type": "code",
   "execution_count": 3,
   "id": "a40bdd57",
   "metadata": {},
   "outputs": [
    {
     "name": "stdout",
     "output_type": "stream",
     "text": [
      "En moyenne, par année le nombre de cyclone est de: 77.97674418604652\n"
     ]
    }
   ],
   "source": [
    "SID_and_year = datas[[\"SID\",\"SEASON\"]]\n",
    "moyenne = np.mean(SID_and_year.drop_duplicates(subset=\"SID\",keep=\"first\").value_counts(\"SEASON\"))\n",
    "print(\"En moyenne, par année le nombre de cyclone est de: \"+str(moyenne))"
   ]
  },
  {
   "cell_type": "markdown",
   "id": "8ae5594e",
   "metadata": {},
   "source": [
    "## 2.2"
   ]
  },
  {
   "cell_type": "code",
   "execution_count": 4,
   "id": "69b95dc2",
   "metadata": {},
   "outputs": [
    {
     "name": "stdout",
     "output_type": "stream",
     "text": [
      "Pour le bassin NI ,la moyenne est de 10.05813953488372 par année.\n",
      "--------------------------------\n",
      "Pour le bassin SI ,la moyenne est de 17.46511627906977 par année.\n",
      "--------------------------------\n",
      "Pour le bassin NA ,la moyenne est de 12.924418604651162 par année.\n",
      "--------------------------------\n",
      "Pour le bassin EP ,la moyenne est de 9.0 par année.\n",
      "--------------------------------\n",
      "Pour le bassin WP ,la moyenne est de 24.575581395348838 par année.\n",
      "--------------------------------\n",
      "Pour le bassin SP ,la moyenne est de 7.563953488372093 par année.\n",
      "--------------------------------\n",
      "Pour le bassin SA ,la moyenne est de 0.011627906976744186 par année.\n",
      "--------------------------------\n"
     ]
    }
   ],
   "source": [
    "SID_year_basin = datas[[\"SID\",\"SEASON\",\"BASIN\"]]\n",
    "df = SID_year_basin.fillna(value='NA', inplace=False) #Interprète la valeur NA pour north atlantic comme un nan sinon.\n",
    "nom_bassin = df['BASIN'].unique()\n",
    "annee = df['SEASON'].unique()\n",
    "for x in nom_bassin:\n",
    "    if type(x) != float: #On évite le bassin ou le nom est un NaN\n",
    "        tri_par_bassin = df[df['BASIN'] == x]\n",
    "        moyenne_bassin = sum(tri_par_bassin.drop_duplicates(subset=\"SID\",keep='first').value_counts(\"SEASON\"))/(len(annee))\n",
    "        print(\"Pour le bassin \"+x+\" ,la moyenne est de \"+str(moyenne_bassin)+\" par année.\")\n",
    "        print('--------------------------------')\n",
    "        "
   ]
  },
  {
   "cell_type": "markdown",
   "id": "0c4096f7",
   "metadata": {},
   "source": [
    "## 2.3"
   ]
  },
  {
   "cell_type": "code",
   "execution_count": 5,
   "id": "5afb89e2",
   "metadata": {},
   "outputs": [],
   "source": [
    "df = datas[[\"SID\",\"SEASON\",\"BASIN\",\"NATURE\"]]\n",
    "tab = df[df['NATURE']==\"TS\"].fillna(value='NA', inplace=False)#Interprète la valeur NA pour north atlantic comme un nan sinon.\n",
    "nom_bassin = tab['BASIN'].unique()\n",
    "annees = []\n",
    "nombres_TS = []\n",
    "for x in nom_bassin:\n",
    "    tri_par_bassin = tab[tab['BASIN'] == x]\n",
    "    annee = tri_par_bassin['SEASON'].unique()\n",
    "    nombre_par_annee = tri_par_bassin.drop_duplicates(subset=\"SID\",keep='first').value_counts(\"SEASON\")\n",
    "    years = []\n",
    "    nombres_TS_bassin = []\n",
    "    for y in annee:\n",
    "        years.append(y)\n",
    "        nombres_TS_bassin.append(nombre_par_annee[y])\n",
    "    annees.append(years)\n",
    "    nombres_TS.append(nombres_TS_bassin)   "
   ]
  },
  {
   "cell_type": "code",
   "execution_count": 6,
   "id": "2fcab272",
   "metadata": {},
   "outputs": [],
   "source": [
    "def interpo_zero(annees_ref,annees,liste):\n",
    "    output = []\n",
    "    for i in range(len(annees_ref)):\n",
    "        if annees_ref[i] in annees:\n",
    "            ind = annees.index(annees_ref[i])\n",
    "            output.append(liste[ind])\n",
    "        else:\n",
    "            output.append(0)\n",
    "    return output\n",
    "\n",
    "TS = [nombres_TS[0]]\n",
    "for i in range(1,len(annees)):\n",
    "    TS.append(interpo_zero(annees[0],annees[i],nombres_TS[i]))"
   ]
  },
  {
   "cell_type": "code",
   "execution_count": 91,
   "id": "84e8dce6",
   "metadata": {},
   "outputs": [
    {
     "data": {
      "image/png": "[encoded data removed]",
      "text/plain": [
       "<Figure size 432x288 with 1 Axes>"
      ]
     },
     "metadata": {
      "needs_background": "light"
     },
     "output_type": "display_data"
    }
   ],
   "source": [
    "fig = plt.figure()\n",
    "ax = fig.add_axes([0,0,1,1])\n",
    "ax.bar(annees[0],TS[0],width=0.65,label=nom_bassin[0])\n",
    "for i in range(1,7):\n",
    "    ax.bar(annees[0],TS[i],width=0.65,label=nom_bassin[i],bottom=TS[i-1])\n",
    "ax.set_title(\"Annuel evolution of tropical systems numbers by basin \")\n",
    "ax.set_xlabel(\"Years\")\n",
    "ax.set_ylabel(\"Numbers\")\n",
    "ax.legend()\n",
    "plt.savefig(\"OUTPUTS/Annuel_evolution_oft_tropical_systems_numbers_by_basin.jpeg\",dpi=1000,bbox_inches=\"tight\")"
   ]
  },
  {
   "cell_type": "markdown",
   "id": "a7f3711a",
   "metadata": {},
   "source": [
    "## 2.4"
   ]
  },
  {
   "cell_type": "markdown",
   "id": "d6115612",
   "metadata": {},
   "source": [
    "A répondre"
   ]
  },
  {
   "cell_type": "markdown",
   "id": "748e434f",
   "metadata": {},
   "source": [
    "# 3. TROPICALS SYSTEMS IN MEXICO"
   ]
  },
  {
   "cell_type": "code",
   "execution_count": 3,
   "id": "2e6f398b",
   "metadata": {},
   "outputs": [],
   "source": [
    "df_temp = datas[datas['SEASON']>1979] #On regarde uniquement les cyclones formés après 1980:\n",
    "df = df_temp[df_temp['NATURE']=='TS'].fillna(value='NA', inplace=False)#Interprète la valeur NA pour north atlantic comme un nan sinon."
   ]
  },
  {
   "cell_type": "markdown",
   "id": "9bf4cb72",
   "metadata": {},
   "source": [
    "## 3.1"
   ]
  },
  {
   "cell_type": "markdown",
   "id": "52e9bedf",
   "metadata": {},
   "source": [
    "Les bassins qui concerneront Mexico seront EP (Eastern Pacific) et NA (North Atlantic)."
   ]
  },
  {
   "cell_type": "markdown",
   "id": "64341e57",
   "metadata": {},
   "source": [
    "## 3.2"
   ]
  },
  {
   "cell_type": "code",
   "execution_count": 4,
   "id": "e998e4fa",
   "metadata": {},
   "outputs": [],
   "source": [
    "#On selectionne les bassins EP et NA pour la zone concernée:\n",
    "df_zone_large = df[df['BASIN'].isin(['EP','NA'])]"
   ]
  },
  {
   "cell_type": "markdown",
   "id": "0c8d164a",
   "metadata": {},
   "source": [
    "## 3.3"
   ]
  },
  {
   "cell_type": "code",
   "execution_count": 5,
   "id": "76877bdc",
   "metadata": {},
   "outputs": [],
   "source": [
    "#On définit un rectangle où Mexico se trouve\n",
    "\"\"\"corner_top_left = [-100.3738,20.2745]\n",
    "corner_bottom_left = [-100.3738,18.3044]\n",
    "corner_bottom_right = [ -97.5393,18.3044]\n",
    "corner_top_right = [-97.5393,20.2745]\"\"\"\n",
    "\n",
    "df_mexico_1 = df_zone_large[df_zone_large['LAT']>18.3044]\n",
    "df_mexico_2 = df_mexico_1[df_mexico_1['LAT']<20.2745]\n",
    "df_mexico_3 = df_mexico_2[df_mexico_2['LON']>-100.3738]\n",
    "df_mexico = df_mexico_3[df_mexico_3['LON']<-97.5393].drop_duplicates(subset='SID',keep='first')"
   ]
  },
  {
   "cell_type": "code",
   "execution_count": 6,
   "id": "3f1acac2",
   "metadata": {},
   "outputs": [
    {
     "data": {
      "text/plain": [
       "BASIN\n",
       "NA    4\n",
       "EP    1\n",
       "dtype: int64"
      ]
     },
     "execution_count": 6,
     "metadata": {},
     "output_type": "execute_result"
    }
   ],
   "source": [
    "df_mexico.value_counts('BASIN')"
   ]
  },
  {
   "cell_type": "markdown",
   "id": "a93e61bf",
   "metadata": {},
   "source": [
    "On remarque que pour le rectangle selectionné (un peu plus grand que l'air de Mexico), on a 4 TS venants du bassin North Atlantic et 1 venant du bassin Eastern Pacific. Comme on pouvait s'y attendre, Mexico se situe sur une latitude où les alizés sont dominants (flux d'est). Ainsi les cyclones se formant a l'ouest on plus de chance de venir impacter la ville dans le flux d'est. "
   ]
  },
  {
   "cell_type": "markdown",
   "id": "157eb6c8",
   "metadata": {},
   "source": [
    "## 3.4"
   ]
  },
  {
   "cell_type": "code",
   "execution_count": 7,
   "id": "39b8ff21",
   "metadata": {},
   "outputs": [
    {
     "data": {
      "text/plain": [
       "USA_PRES\n",
       "1000    2\n",
       "1002    1\n",
       "1005    1\n",
       "998     1\n",
       "dtype: int64"
      ]
     },
     "execution_count": 7,
     "metadata": {},
     "output_type": "execute_result"
    }
   ],
   "source": [
    "df_mexico.value_counts('USA_PRES')"
   ]
  },
  {
   "cell_type": "markdown",
   "id": "04d797f6",
   "metadata": {},
   "source": [
    "On remarque qu'on a eu un minimum de pression de 998 hPa dans la zone de Mexico. Cependant, parmis les cyclones qui ont touchés la zone définie, on va chercher a remonter les trajectoires et à savoir le minimum en pression des 5 cyclones qui ont touchés cette zone pendant leurs durées de vie."
   ]
  },
  {
   "cell_type": "code",
   "execution_count": 8,
   "id": "db88cbbe",
   "metadata": {},
   "outputs": [],
   "source": [
    "ID_TS_mexico = df_mexico['SID'].unique()\n",
    "min_pression = []\n",
    "for x in ID_TS_mexico:\n",
    "    TS = df_zone_large.loc[df_zone_large['SID'] == x]\n",
    "    float_pression = []\n",
    "    for y in TS['USA_PRES'].unique():\n",
    "        if y!=' ':\n",
    "            float_pression.append(float(y))\n",
    "    min_pression.append([np.min(float_pression),x])"
   ]
  },
  {
   "cell_type": "code",
   "execution_count": 9,
   "id": "740a145b",
   "metadata": {},
   "outputs": [
    {
     "data": {
      "text/plain": [
       "[[987.0, '1988245N20269'],\n",
       " [979.0, '1989169N13265'],\n",
       " [998.0, '2005235N19266'],\n",
       " [981.0, '2017219N16279'],\n",
       " [972.0, '2017249N22263']]"
      ]
     },
     "execution_count": 9,
     "metadata": {},
     "output_type": "execute_result"
    }
   ],
   "source": [
    "min_pression"
   ]
  },
  {
   "cell_type": "code",
   "execution_count": 10,
   "id": "2a726461",
   "metadata": {},
   "outputs": [
    {
     "data": {
      "text/html": [
       "<div>\n",
       "<style scoped>\n",
       "    .dataframe tbody tr th:only-of-type {\n",
       "        vertical-align: middle;\n",
       "    }\n",
       "\n",
       "    .dataframe tbody tr th {\n",
       "        vertical-align: top;\n",
       "    }\n",
       "\n",
       "    .dataframe thead th {\n",
       "        text-align: right;\n",
       "    }\n",
       "</style>\n",
       "<table border=\"1\" class=\"dataframe\">\n",
       "  <thead>\n",
       "    <tr style=\"text-align: right;\">\n",
       "      <th></th>\n",
       "      <th>SID</th>\n",
       "      <th>SEASON</th>\n",
       "      <th>NUMBER</th>\n",
       "      <th>BASIN</th>\n",
       "      <th>SUBBASIN</th>\n",
       "      <th>NAME</th>\n",
       "      <th>ISO_TIME</th>\n",
       "      <th>NATURE</th>\n",
       "      <th>LAT</th>\n",
       "      <th>LON</th>\n",
       "      <th>...</th>\n",
       "      <th>BOM_GUST_PER</th>\n",
       "      <th>REUNION_GUST</th>\n",
       "      <th>REUNION_GUST_PER</th>\n",
       "      <th>USA_SEAHGT</th>\n",
       "      <th>USA_SEARAD_NE</th>\n",
       "      <th>USA_SEARAD_SE</th>\n",
       "      <th>USA_SEARAD_SW</th>\n",
       "      <th>USA_SEARAD_NW</th>\n",
       "      <th>STORM_SPEED</th>\n",
       "      <th>STORM_DIR</th>\n",
       "    </tr>\n",
       "  </thead>\n",
       "  <tbody>\n",
       "    <tr>\n",
       "      <th>674252</th>\n",
       "      <td>2017249N22263</td>\n",
       "      <td>2017</td>\n",
       "      <td>72</td>\n",
       "      <td>NA</td>\n",
       "      <td>NA</td>\n",
       "      <td>KATIA</td>\n",
       "      <td>2017-09-09 09:00:00</td>\n",
       "      <td>TS</td>\n",
       "      <td>20.1412</td>\n",
       "      <td>-97.5955</td>\n",
       "      <td>...</td>\n",
       "      <td></td>\n",
       "      <td></td>\n",
       "      <td></td>\n",
       "      <td>12</td>\n",
       "      <td>75</td>\n",
       "      <td></td>\n",
       "      <td></td>\n",
       "      <td></td>\n",
       "      <td>3</td>\n",
       "      <td>235</td>\n",
       "    </tr>\n",
       "  </tbody>\n",
       "</table>\n",
       "<p>1 rows × 163 columns</p>\n",
       "</div>"
      ],
      "text/plain": [
       "                  SID  SEASON  NUMBER BASIN SUBBASIN   NAME  \\\n",
       "674252  2017249N22263    2017      72    NA       NA  KATIA   \n",
       "\n",
       "                   ISO_TIME NATURE      LAT      LON  ... BOM_GUST_PER  \\\n",
       "674252  2017-09-09 09:00:00     TS  20.1412 -97.5955  ...                \n",
       "\n",
       "       REUNION_GUST REUNION_GUST_PER USA_SEAHGT  USA_SEARAD_NE USA_SEARAD_SE  \\\n",
       "674252                                       12             75                 \n",
       "\n",
       "       USA_SEARAD_SW USA_SEARAD_NW STORM_SPEED STORM_DIR  \n",
       "674252                                       3       235  \n",
       "\n",
       "[1 rows x 163 columns]"
      ]
     },
     "execution_count": 10,
     "metadata": {},
     "output_type": "execute_result"
    }
   ],
   "source": [
    "df_mexico.loc[df_mexico['SID'] == '2017249N22263']"
   ]
  },
  {
   "cell_type": "markdown",
   "id": "370243c2",
   "metadata": {},
   "source": [
    "Le cyclone de 2017 qui a touché la zone de Mexico à 1002 hPa nommé Katia a eu un minimum le plus bas dans sa durée de vie de 972 hPa. "
   ]
  },
  {
   "cell_type": "code",
   "execution_count": 11,
   "id": "e2171db6",
   "metadata": {},
   "outputs": [
    {
     "data": {
      "text/plain": [
       "USA_WIND\n",
       "25    2\n",
       "32    2\n",
       "40    1\n",
       "dtype: int64"
      ]
     },
     "execution_count": 11,
     "metadata": {},
     "output_type": "execute_result"
    }
   ],
   "source": [
    "df_mexico.value_counts('USA_WIND')"
   ]
  },
  {
   "cell_type": "markdown",
   "id": "c1857d56",
   "metadata": {},
   "source": [
    "Dans la zone de Mexico, on remarque que le maximum de vent observé est de 40 kts. Cependant, parmis les cyclones qui ont touchés la zone définie, on va chercher a remonter les trajectoires et à savoir le maximum de vent des 5 cyclones qui ont touchés cette zone pendant leurs durées de vie."
   ]
  },
  {
   "cell_type": "code",
   "execution_count": 12,
   "id": "8cc109bd",
   "metadata": {},
   "outputs": [],
   "source": [
    "max_vent = []\n",
    "for x in ID_TS_mexico:\n",
    "    TS = df_zone_large.loc[df_zone_large['SID'] == x]\n",
    "    float_vent = []\n",
    "    for y in TS['USA_WIND'].unique():\n",
    "        if y!=' ':\n",
    "            float_vent.append(float(y))\n",
    "    max_vent.append([np.max(float_vent),x])"
   ]
  },
  {
   "cell_type": "code",
   "execution_count": 13,
   "id": "1675667f",
   "metadata": {},
   "outputs": [
    {
     "data": {
      "text/plain": [
       "[[65.0, '1988245N20269'],\n",
       " [75.0, '1989169N13265'],\n",
       " [50.0, '2005235N19266'],\n",
       " [75.0, '2017219N16279'],\n",
       " [90.0, '2017249N22263']]"
      ]
     },
     "execution_count": 13,
     "metadata": {},
     "output_type": "execute_result"
    }
   ],
   "source": [
    "max_vent"
   ]
  },
  {
   "cell_type": "code",
   "execution_count": 14,
   "id": "62b2932b",
   "metadata": {
    "scrolled": true
   },
   "outputs": [
    {
     "data": {
      "text/html": [
       "<div>\n",
       "<style scoped>\n",
       "    .dataframe tbody tr th:only-of-type {\n",
       "        vertical-align: middle;\n",
       "    }\n",
       "\n",
       "    .dataframe tbody tr th {\n",
       "        vertical-align: top;\n",
       "    }\n",
       "\n",
       "    .dataframe thead th {\n",
       "        text-align: right;\n",
       "    }\n",
       "</style>\n",
       "<table border=\"1\" class=\"dataframe\">\n",
       "  <thead>\n",
       "    <tr style=\"text-align: right;\">\n",
       "      <th></th>\n",
       "      <th>SID</th>\n",
       "      <th>SEASON</th>\n",
       "      <th>NUMBER</th>\n",
       "      <th>BASIN</th>\n",
       "      <th>SUBBASIN</th>\n",
       "      <th>NAME</th>\n",
       "      <th>ISO_TIME</th>\n",
       "      <th>NATURE</th>\n",
       "      <th>LAT</th>\n",
       "      <th>LON</th>\n",
       "      <th>...</th>\n",
       "      <th>BOM_GUST_PER</th>\n",
       "      <th>REUNION_GUST</th>\n",
       "      <th>REUNION_GUST_PER</th>\n",
       "      <th>USA_SEAHGT</th>\n",
       "      <th>USA_SEARAD_NE</th>\n",
       "      <th>USA_SEARAD_SE</th>\n",
       "      <th>USA_SEARAD_SW</th>\n",
       "      <th>USA_SEARAD_NW</th>\n",
       "      <th>STORM_SPEED</th>\n",
       "      <th>STORM_DIR</th>\n",
       "    </tr>\n",
       "  </thead>\n",
       "  <tbody>\n",
       "    <tr>\n",
       "      <th>674252</th>\n",
       "      <td>2017249N22263</td>\n",
       "      <td>2017</td>\n",
       "      <td>72</td>\n",
       "      <td>NA</td>\n",
       "      <td>NA</td>\n",
       "      <td>KATIA</td>\n",
       "      <td>2017-09-09 09:00:00</td>\n",
       "      <td>TS</td>\n",
       "      <td>20.1412</td>\n",
       "      <td>-97.5955</td>\n",
       "      <td>...</td>\n",
       "      <td></td>\n",
       "      <td></td>\n",
       "      <td></td>\n",
       "      <td>12</td>\n",
       "      <td>75</td>\n",
       "      <td></td>\n",
       "      <td></td>\n",
       "      <td></td>\n",
       "      <td>3</td>\n",
       "      <td>235</td>\n",
       "    </tr>\n",
       "  </tbody>\n",
       "</table>\n",
       "<p>1 rows × 163 columns</p>\n",
       "</div>"
      ],
      "text/plain": [
       "                  SID  SEASON  NUMBER BASIN SUBBASIN   NAME  \\\n",
       "674252  2017249N22263    2017      72    NA       NA  KATIA   \n",
       "\n",
       "                   ISO_TIME NATURE      LAT      LON  ... BOM_GUST_PER  \\\n",
       "674252  2017-09-09 09:00:00     TS  20.1412 -97.5955  ...                \n",
       "\n",
       "       REUNION_GUST REUNION_GUST_PER USA_SEAHGT  USA_SEARAD_NE USA_SEARAD_SE  \\\n",
       "674252                                       12             75                 \n",
       "\n",
       "       USA_SEARAD_SW USA_SEARAD_NW STORM_SPEED STORM_DIR  \n",
       "674252                                       3       235  \n",
       "\n",
       "[1 rows x 163 columns]"
      ]
     },
     "execution_count": 14,
     "metadata": {},
     "output_type": "execute_result"
    }
   ],
   "source": [
    "df_mexico.loc[df_mexico['SID'] == '2017249N22263']"
   ]
  },
  {
   "cell_type": "markdown",
   "id": "b9a32326",
   "metadata": {},
   "source": [
    "Le cyclone de 2017 qui a touché la zone de Mexico à 32 kts, nommé Katia, a eu un maximum de vent dans sa durée de vie de 90 kts. "
   ]
  },
  {
   "cell_type": "markdown",
   "id": "cf12ef90",
   "metadata": {},
   "source": [
    "## 3.5"
   ]
  },
  {
   "cell_type": "code",
   "execution_count": 15,
   "id": "77e014c2",
   "metadata": {},
   "outputs": [
    {
     "data": {
      "text/plain": [
       "SEASON\n",
       "2017    2\n",
       "1988    1\n",
       "1989    1\n",
       "2005    1\n",
       "dtype: int64"
      ]
     },
     "execution_count": 15,
     "metadata": {},
     "output_type": "execute_result"
    }
   ],
   "source": [
    "df_mexico.value_counts('SEASON')"
   ]
  },
  {
   "cell_type": "markdown",
   "id": "12b8796b",
   "metadata": {},
   "source": [
    "2017 a été l'année la plus touchée avec 2 cyclones."
   ]
  },
  {
   "cell_type": "markdown",
   "id": "015bd984",
   "metadata": {},
   "source": [
    "# 4. FOOTPRINTS OF HISTORICAL HURRICANES"
   ]
  },
  {
   "cell_type": "code",
   "execution_count": 3,
   "id": "20f577f6",
   "metadata": {},
   "outputs": [],
   "source": [
    "import pyreadr"
   ]
  },
  {
   "cell_type": "markdown",
   "id": "2063badc",
   "metadata": {},
   "source": [
    "## 4.1"
   ]
  },
  {
   "cell_type": "code",
   "execution_count": 12,
   "id": "8a6e78be",
   "metadata": {},
   "outputs": [],
   "source": [
    "datas_bis_R = pyreadr.read_r('OUTPUTS/df_select_mex.Rdata')\n",
    "datas_bis = datas_bis_R[\"df_select_mex\"]"
   ]
  },
  {
   "cell_type": "code",
   "execution_count": 20,
   "id": "f69a35ab",
   "metadata": {
    "scrolled": true
   },
   "outputs": [
    {
     "name": "stderr",
     "output_type": "stream",
     "text": [
      "/var/folders/nl/085c3bg56vz532wrd2lrxvt40000gn/T/ipykernel_828/1164399745.py:3: SettingWithCopyWarning: \n",
      "A value is trying to be set on a copy of a slice from a DataFrame.\n",
      "Try using .loc[row_indexer,col_indexer] = value instead\n",
      "\n",
      "See the caveats in the documentation: https://pandas.pydata.org/pandas-docs/stable/user_guide/indexing.html#returning-a-view-versus-a-copy\n",
      "  update_datas[\"USA_WIND\"]=pd.to_numeric(update_datas[\"USA_WIND\"],errors='ignore')\n"
     ]
    }
   ],
   "source": [
    "datas[\"USA_WIND\"]=pd.to_numeric(datas[\"USA_WIND\"],errors='ignore') #Seulement utilisé pour les plots\n",
    "update_datas = datas[datas['SID'].isin(datas_bis[\"SID\"].tolist())]\n",
    "update_datas[\"USA_WIND\"]=pd.to_numeric(update_datas[\"USA_WIND\"],errors='ignore')"
   ]
  },
  {
   "cell_type": "code",
   "execution_count": 14,
   "id": "18ec9414",
   "metadata": {},
   "outputs": [
    {
     "data": {
      "text/html": [
       "<div>\n",
       "<style scoped>\n",
       "    .dataframe tbody tr th:only-of-type {\n",
       "        vertical-align: middle;\n",
       "    }\n",
       "\n",
       "    .dataframe tbody tr th {\n",
       "        vertical-align: top;\n",
       "    }\n",
       "\n",
       "    .dataframe thead th {\n",
       "        text-align: right;\n",
       "    }\n",
       "</style>\n",
       "<table border=\"1\" class=\"dataframe\">\n",
       "  <thead>\n",
       "    <tr style=\"text-align: right;\">\n",
       "      <th></th>\n",
       "      <th>SID</th>\n",
       "      <th>SEASON</th>\n",
       "      <th>NUMBER</th>\n",
       "      <th>BASIN</th>\n",
       "      <th>SUBBASIN</th>\n",
       "      <th>NAME</th>\n",
       "      <th>ISO_TIME</th>\n",
       "      <th>NATURE</th>\n",
       "      <th>LAT</th>\n",
       "      <th>LON</th>\n",
       "      <th>...</th>\n",
       "      <th>BOM_GUST_PER</th>\n",
       "      <th>REUNION_GUST</th>\n",
       "      <th>REUNION_GUST_PER</th>\n",
       "      <th>USA_SEAHGT</th>\n",
       "      <th>USA_SEARAD_NE</th>\n",
       "      <th>USA_SEARAD_SE</th>\n",
       "      <th>USA_SEARAD_SW</th>\n",
       "      <th>USA_SEARAD_NW</th>\n",
       "      <th>STORM_SPEED</th>\n",
       "      <th>STORM_DIR</th>\n",
       "    </tr>\n",
       "  </thead>\n",
       "  <tbody>\n",
       "    <tr>\n",
       "      <th>424663</th>\n",
       "      <td>1980177N13259</td>\n",
       "      <td>1980</td>\n",
       "      <td>44</td>\n",
       "      <td>EP</td>\n",
       "      <td>MM</td>\n",
       "      <td>CELIA</td>\n",
       "      <td>1980-06-25 06:00:00</td>\n",
       "      <td>TS</td>\n",
       "      <td>13.5</td>\n",
       "      <td>-101.4</td>\n",
       "      <td>...</td>\n",
       "      <td></td>\n",
       "      <td></td>\n",
       "      <td></td>\n",
       "      <td></td>\n",
       "      <td></td>\n",
       "      <td></td>\n",
       "      <td></td>\n",
       "      <td></td>\n",
       "      <td>11</td>\n",
       "      <td>285</td>\n",
       "    </tr>\n",
       "    <tr>\n",
       "      <th>425409</th>\n",
       "      <td>1980214N11330</td>\n",
       "      <td>1980</td>\n",
       "      <td>60</td>\n",
       "      <td>NaN</td>\n",
       "      <td>NaN</td>\n",
       "      <td>ALLEN</td>\n",
       "      <td>1980-07-31 12:00:00</td>\n",
       "      <td>NR</td>\n",
       "      <td>11.0</td>\n",
       "      <td>-30.0</td>\n",
       "      <td>...</td>\n",
       "      <td></td>\n",
       "      <td></td>\n",
       "      <td></td>\n",
       "      <td></td>\n",
       "      <td></td>\n",
       "      <td></td>\n",
       "      <td></td>\n",
       "      <td></td>\n",
       "      <td>22</td>\n",
       "      <td>267</td>\n",
       "    </tr>\n",
       "    <tr>\n",
       "      <th>425587</th>\n",
       "      <td>1980219N15258</td>\n",
       "      <td>1980</td>\n",
       "      <td>62</td>\n",
       "      <td>EP</td>\n",
       "      <td>MM</td>\n",
       "      <td>ISIS</td>\n",
       "      <td>1980-08-05 18:00:00</td>\n",
       "      <td>TS</td>\n",
       "      <td>14.9</td>\n",
       "      <td>-102.1</td>\n",
       "      <td>...</td>\n",
       "      <td></td>\n",
       "      <td></td>\n",
       "      <td></td>\n",
       "      <td></td>\n",
       "      <td></td>\n",
       "      <td></td>\n",
       "      <td></td>\n",
       "      <td></td>\n",
       "      <td>5</td>\n",
       "      <td>254</td>\n",
       "    </tr>\n",
       "    <tr>\n",
       "      <th>431199</th>\n",
       "      <td>1981180N11257</td>\n",
       "      <td>1981</td>\n",
       "      <td>45</td>\n",
       "      <td>EP</td>\n",
       "      <td>MM</td>\n",
       "      <td>BEATRIZ</td>\n",
       "      <td>1981-06-28 18:00:00</td>\n",
       "      <td>TS</td>\n",
       "      <td>11.4</td>\n",
       "      <td>-103.4</td>\n",
       "      <td>...</td>\n",
       "      <td></td>\n",
       "      <td></td>\n",
       "      <td></td>\n",
       "      <td></td>\n",
       "      <td></td>\n",
       "      <td></td>\n",
       "      <td></td>\n",
       "      <td></td>\n",
       "      <td>10</td>\n",
       "      <td>283</td>\n",
       "    </tr>\n",
       "    <tr>\n",
       "      <th>432133</th>\n",
       "      <td>1981225N16249</td>\n",
       "      <td>1981</td>\n",
       "      <td>66</td>\n",
       "      <td>EP</td>\n",
       "      <td>MM</td>\n",
       "      <td>GREG</td>\n",
       "      <td>1981-08-13 06:00:00</td>\n",
       "      <td>TS</td>\n",
       "      <td>16.2</td>\n",
       "      <td>-111.4</td>\n",
       "      <td>...</td>\n",
       "      <td></td>\n",
       "      <td></td>\n",
       "      <td></td>\n",
       "      <td></td>\n",
       "      <td></td>\n",
       "      <td></td>\n",
       "      <td></td>\n",
       "      <td></td>\n",
       "      <td>4</td>\n",
       "      <td>309</td>\n",
       "    </tr>\n",
       "    <tr>\n",
       "      <th>...</th>\n",
       "      <td>...</td>\n",
       "      <td>...</td>\n",
       "      <td>...</td>\n",
       "      <td>...</td>\n",
       "      <td>...</td>\n",
       "      <td>...</td>\n",
       "      <td>...</td>\n",
       "      <td>...</td>\n",
       "      <td>...</td>\n",
       "      <td>...</td>\n",
       "      <td>...</td>\n",
       "      <td>...</td>\n",
       "      <td>...</td>\n",
       "      <td>...</td>\n",
       "      <td>...</td>\n",
       "      <td>...</td>\n",
       "      <td>...</td>\n",
       "      <td>...</td>\n",
       "      <td>...</td>\n",
       "      <td>...</td>\n",
       "      <td>...</td>\n",
       "    </tr>\n",
       "    <tr>\n",
       "      <th>673214</th>\n",
       "      <td>2017219N16279</td>\n",
       "      <td>2017</td>\n",
       "      <td>57</td>\n",
       "      <td>NaN</td>\n",
       "      <td>CS</td>\n",
       "      <td>FRANKLIN</td>\n",
       "      <td>2017-08-06 18:00:00</td>\n",
       "      <td>DS</td>\n",
       "      <td>15.5</td>\n",
       "      <td>-81.5</td>\n",
       "      <td>...</td>\n",
       "      <td></td>\n",
       "      <td></td>\n",
       "      <td></td>\n",
       "      <td></td>\n",
       "      <td></td>\n",
       "      <td></td>\n",
       "      <td></td>\n",
       "      <td></td>\n",
       "      <td>14</td>\n",
       "      <td>297</td>\n",
       "    </tr>\n",
       "    <tr>\n",
       "      <th>674221</th>\n",
       "      <td>2017249N22263</td>\n",
       "      <td>2017</td>\n",
       "      <td>72</td>\n",
       "      <td>NaN</td>\n",
       "      <td>GM</td>\n",
       "      <td>KATIA</td>\n",
       "      <td>2017-09-05 12:00:00</td>\n",
       "      <td>TS</td>\n",
       "      <td>22.2</td>\n",
       "      <td>-97.2</td>\n",
       "      <td>...</td>\n",
       "      <td></td>\n",
       "      <td></td>\n",
       "      <td></td>\n",
       "      <td></td>\n",
       "      <td></td>\n",
       "      <td></td>\n",
       "      <td></td>\n",
       "      <td></td>\n",
       "      <td>3</td>\n",
       "      <td>33</td>\n",
       "    </tr>\n",
       "    <tr>\n",
       "      <th>674502</th>\n",
       "      <td>2017257N16251</td>\n",
       "      <td>2017</td>\n",
       "      <td>76</td>\n",
       "      <td>EP</td>\n",
       "      <td>MM</td>\n",
       "      <td>NORMA</td>\n",
       "      <td>2017-09-14 06:00:00</td>\n",
       "      <td>TS</td>\n",
       "      <td>16.4</td>\n",
       "      <td>-109.5</td>\n",
       "      <td>...</td>\n",
       "      <td></td>\n",
       "      <td></td>\n",
       "      <td></td>\n",
       "      <td></td>\n",
       "      <td></td>\n",
       "      <td></td>\n",
       "      <td></td>\n",
       "      <td></td>\n",
       "      <td>5</td>\n",
       "      <td>9</td>\n",
       "    </tr>\n",
       "    <tr>\n",
       "      <th>674567</th>\n",
       "      <td>2017257N16258</td>\n",
       "      <td>2017</td>\n",
       "      <td>77</td>\n",
       "      <td>EP</td>\n",
       "      <td>MM</td>\n",
       "      <td>MAX</td>\n",
       "      <td>2017-09-13 12:00:00</td>\n",
       "      <td>TS</td>\n",
       "      <td>15.9</td>\n",
       "      <td>-101.8</td>\n",
       "      <td>...</td>\n",
       "      <td></td>\n",
       "      <td></td>\n",
       "      <td></td>\n",
       "      <td></td>\n",
       "      <td></td>\n",
       "      <td></td>\n",
       "      <td></td>\n",
       "      <td></td>\n",
       "      <td>2</td>\n",
       "      <td>65</td>\n",
       "    </tr>\n",
       "    <tr>\n",
       "      <th>674891</th>\n",
       "      <td>2017277N11279</td>\n",
       "      <td>2017</td>\n",
       "      <td>82</td>\n",
       "      <td>NaN</td>\n",
       "      <td>CS</td>\n",
       "      <td>NATE</td>\n",
       "      <td>2017-10-03 12:00:00</td>\n",
       "      <td>DS</td>\n",
       "      <td>10.7</td>\n",
       "      <td>-80.8</td>\n",
       "      <td>...</td>\n",
       "      <td></td>\n",
       "      <td></td>\n",
       "      <td></td>\n",
       "      <td></td>\n",
       "      <td></td>\n",
       "      <td></td>\n",
       "      <td></td>\n",
       "      <td></td>\n",
       "      <td>5</td>\n",
       "      <td>322</td>\n",
       "    </tr>\n",
       "  </tbody>\n",
       "</table>\n",
       "<p>202 rows × 163 columns</p>\n",
       "</div>"
      ],
      "text/plain": [
       "                  SID  SEASON  NUMBER BASIN SUBBASIN      NAME  \\\n",
       "424663  1980177N13259    1980      44    EP       MM     CELIA   \n",
       "425409  1980214N11330    1980      60   NaN      NaN     ALLEN   \n",
       "425587  1980219N15258    1980      62    EP       MM      ISIS   \n",
       "431199  1981180N11257    1981      45    EP       MM   BEATRIZ   \n",
       "432133  1981225N16249    1981      66    EP       MM      GREG   \n",
       "...               ...     ...     ...   ...      ...       ...   \n",
       "673214  2017219N16279    2017      57   NaN       CS  FRANKLIN   \n",
       "674221  2017249N22263    2017      72   NaN       GM     KATIA   \n",
       "674502  2017257N16251    2017      76    EP       MM     NORMA   \n",
       "674567  2017257N16258    2017      77    EP       MM       MAX   \n",
       "674891  2017277N11279    2017      82   NaN       CS      NATE   \n",
       "\n",
       "                   ISO_TIME NATURE   LAT    LON  ... BOM_GUST_PER  \\\n",
       "424663  1980-06-25 06:00:00     TS  13.5 -101.4  ...                \n",
       "425409  1980-07-31 12:00:00     NR  11.0  -30.0  ...                \n",
       "425587  1980-08-05 18:00:00     TS  14.9 -102.1  ...                \n",
       "431199  1981-06-28 18:00:00     TS  11.4 -103.4  ...                \n",
       "432133  1981-08-13 06:00:00     TS  16.2 -111.4  ...                \n",
       "...                     ...    ...   ...    ...  ...          ...   \n",
       "673214  2017-08-06 18:00:00     DS  15.5  -81.5  ...                \n",
       "674221  2017-09-05 12:00:00     TS  22.2  -97.2  ...                \n",
       "674502  2017-09-14 06:00:00     TS  16.4 -109.5  ...                \n",
       "674567  2017-09-13 12:00:00     TS  15.9 -101.8  ...                \n",
       "674891  2017-10-03 12:00:00     DS  10.7  -80.8  ...                \n",
       "\n",
       "       REUNION_GUST REUNION_GUST_PER USA_SEAHGT  USA_SEARAD_NE USA_SEARAD_SE  \\\n",
       "424663                                                                         \n",
       "425409                                                                         \n",
       "425587                                                                         \n",
       "431199                                                                         \n",
       "432133                                                                         \n",
       "...             ...              ...        ...            ...           ...   \n",
       "673214                                                                         \n",
       "674221                                                                         \n",
       "674502                                                                         \n",
       "674567                                                                         \n",
       "674891                                                                         \n",
       "\n",
       "       USA_SEARAD_SW USA_SEARAD_NW STORM_SPEED STORM_DIR  \n",
       "424663                                      11       285  \n",
       "425409                                      22       267  \n",
       "425587                                       5       254  \n",
       "431199                                      10       283  \n",
       "432133                                       4       309  \n",
       "...              ...           ...         ...       ...  \n",
       "673214                                      14       297  \n",
       "674221                                       3        33  \n",
       "674502                                       5         9  \n",
       "674567                                       2        65  \n",
       "674891                                       5       322  \n",
       "\n",
       "[202 rows x 163 columns]"
      ]
     },
     "execution_count": 14,
     "metadata": {},
     "output_type": "execute_result"
    }
   ],
   "source": [
    "update_datas.drop_duplicates(subset=\"SID\",keep='first')"
   ]
  },
  {
   "cell_type": "markdown",
   "id": "687daf26",
   "metadata": {},
   "source": [
    "On a bien filtré les datas en fonction des Rdatas de OUTPUTS. Pour verifier, si on drop les doublons, on voit qu'on a bien 202 rows dans notre dataframe ce qui correspond au nombres de ligne dans les Rdatas de OUTPUTS."
   ]
  },
  {
   "cell_type": "markdown",
   "id": "c8fdaacb",
   "metadata": {},
   "source": [
    "## 4.2"
   ]
  },
  {
   "cell_type": "code",
   "execution_count": 15,
   "id": "6f8700c2",
   "metadata": {},
   "outputs": [],
   "source": [
    "for x in datas_bis[\"SID\"].tolist():\n",
    "    TS = update_datas[update_datas['SID'] == x]\n",
    "    traj = TS[[\"LAT\",\"LON\"]]"
   ]
  },
  {
   "cell_type": "code",
   "execution_count": 30,
   "id": "1327af54",
   "metadata": {},
   "outputs": [],
   "source": [
    "import geopandas\n",
    "import matplotlib.pyplot as plt\n",
    "import cartopy"
   ]
  },
  {
   "cell_type": "code",
   "execution_count": 17,
   "id": "ed6bf515",
   "metadata": {},
   "outputs": [
    {
     "data": {
      "image/png": "[encoded data removed]",
      "text/plain": [
       "<Figure size 576x432 with 1 Axes>"
      ]
     },
     "metadata": {
      "needs_background": "light"
     },
     "output_type": "display_data"
    }
   ],
   "source": [
    "fig , ax = plt.subplots(figsize=(8,6))\n",
    "countries = geopandas.read_file(geopandas.datasets.get_path(\"naturalearth_lowres\"))\n",
    "countries[countries[\"continent\"] == \"North America\"].plot(color=\"lightgrey\",ax=ax)\n",
    "for x in datas_bis[\"SID\"].tolist():\n",
    "    TS = update_datas[update_datas['SID'] == x]\n",
    "    traj = TS[[\"LAT\",\"LON\",'USA_WIND','USA_PRES']]\n",
    "    traj.plot.scatter(x=\"LON\",y=\"LAT\",s=5,ax=ax)"
   ]
  },
  {
   "cell_type": "markdown",
   "id": "100a15cb",
   "metadata": {},
   "source": [
    "## 4.3"
   ]
  },
  {
   "cell_type": "markdown",
   "id": "eccd6833",
   "metadata": {},
   "source": [
    "Wilma in 2005"
   ]
  },
  {
   "cell_type": "code",
   "execution_count": 21,
   "id": "52cbc696",
   "metadata": {
    "scrolled": true
   },
   "outputs": [
    {
     "data": {
      "text/plain": [
       "<AxesSubplot:title={'center':'Wilma in 2005'}, xlabel='LON', ylabel='LAT'>"
      ]
     },
     "execution_count": 21,
     "metadata": {},
     "output_type": "execute_result"
    },
    {
     "data": {
      "image/png": "[encoded data removed]",
      "text/plain": [
       "<Figure size 576x432 with 2 Axes>"
      ]
     },
     "metadata": {
      "needs_background": "light"
     },
     "output_type": "display_data"
    }
   ],
   "source": [
    "fig , ax = plt.subplots(figsize=(8,6))\n",
    "countries = geopandas.read_file(geopandas.datasets.get_path(\"naturalearth_lowres\"))\n",
    "countries[countries[\"continent\"] == \"North America\"].plot(color=\"lightgrey\",ax=ax)\n",
    "TS = update_datas[update_datas['SID'] == '2005289N18282']\n",
    "traj = TS[[\"LAT\",\"LON\",'USA_WIND','USA_PRES']]\n",
    "traj.plot.scatter(x=\"LON\",y=\"LAT\",c=\"USA_WIND\",cmap=\"viridis\",s=20,ax=ax,title=\"Wilma in 2005\")"
   ]
  },
  {
   "cell_type": "markdown",
   "id": "6d7bba42",
   "metadata": {},
   "source": [
    "Odile in 2014"
   ]
  },
  {
   "cell_type": "code",
   "execution_count": 22,
   "id": "420dceae",
   "metadata": {},
   "outputs": [
    {
     "data": {
      "text/plain": [
       "<AxesSubplot:title={'center':'Odile in 2014'}, xlabel='LON', ylabel='LAT'>"
      ]
     },
     "execution_count": 22,
     "metadata": {},
     "output_type": "execute_result"
    },
    {
     "data": {
      "image/png": "[encoded data removed]",
      "text/plain": [
       "<Figure size 576x432 with 2 Axes>"
      ]
     },
     "metadata": {
      "needs_background": "light"
     },
     "output_type": "display_data"
    }
   ],
   "source": [
    "fig , ax = plt.subplots(figsize=(8,6))\n",
    "countries = geopandas.read_file(geopandas.datasets.get_path(\"naturalearth_lowres\"))\n",
    "countries[countries[\"continent\"] == \"North America\"].plot(color=\"lightgrey\",ax=ax)\n",
    "TS = update_datas[update_datas['SID'] == '2014253N13260']\n",
    "traj = TS[[\"LAT\",\"LON\",'USA_WIND','USA_PRES']]\n",
    "traj.plot.scatter(x=\"LON\",y=\"LAT\",c=\"USA_WIND\",cmap=\"viridis\",s=20,ax=ax,title=\"Odile in 2014\")"
   ]
  },
  {
   "cell_type": "markdown",
   "id": "8dec11a6",
   "metadata": {},
   "source": [
    "Patricia in 2015 "
   ]
  },
  {
   "cell_type": "code",
   "execution_count": 23,
   "id": "69ccbe62",
   "metadata": {},
   "outputs": [
    {
     "data": {
      "text/plain": [
       "<AxesSubplot:title={'center':'Patricia in 2015'}, xlabel='LON', ylabel='LAT'>"
      ]
     },
     "execution_count": 23,
     "metadata": {},
     "output_type": "execute_result"
    },
    {
     "data": {
      "image/png": "[encoded data removed]",
      "text/plain": [
       "<Figure size 576x432 with 2 Axes>"
      ]
     },
     "metadata": {
      "needs_background": "light"
     },
     "output_type": "display_data"
    }
   ],
   "source": [
    "fig , ax = plt.subplots(figsize=(8,6))\n",
    "countries = geopandas.read_file(geopandas.datasets.get_path(\"naturalearth_lowres\"))\n",
    "countries[countries[\"continent\"] == \"North America\"].plot(color=\"lightgrey\",ax=ax)\n",
    "TS = update_datas[update_datas['SID'] == '2015293N13266']\n",
    "traj = TS[[\"LAT\",\"LON\",'USA_WIND','USA_PRES']]\n",
    "traj.plot.scatter(x=\"LON\",y=\"LAT\",c=\"USA_WIND\",cmap=\"viridis\",s=20,ax=ax,title='Patricia in 2015')"
   ]
  },
  {
   "cell_type": "markdown",
   "id": "feda84cb",
   "metadata": {},
   "source": [
    "## 4.4"
   ]
  },
  {
   "cell_type": "code",
   "execution_count": 24,
   "id": "f6f1c7fe",
   "metadata": {},
   "outputs": [],
   "source": [
    "data_R_wilma = pyreadr.read_r('OUTPUTS/HISTORICAL_FOOTPRINTS/2005289N18282.Rdata')\n",
    "data_wilma = data_R_wilma[\"event_raster\"]\n",
    "data_wilma[\"wind\"]=pd.to_numeric(data_wilma[\"wind\"],errors='ignore')"
   ]
  },
  {
   "cell_type": "code",
   "execution_count": 43,
   "id": "bd22453a",
   "metadata": {},
   "outputs": [
    {
     "data": {
      "image/png": "[encoded data removed]",
      "text/plain": [
       "<Figure size 432x288 with 2 Axes>"
      ]
     },
     "metadata": {
      "needs_background": "light"
     },
     "output_type": "display_data"
    }
   ],
   "source": [
    "lat = data_wilma['glat']\n",
    "lon = data_wilma['glon']\n",
    "wind = data_wilma['wind']\n",
    "\n",
    "\n",
    "ax = plt.axes(projection=cartopy.crs.PlateCarree())\n",
    "im = ax.scatter(lon,lat,c=wind,cmap='viridis')\n",
    "ax.add_feature(cartopy.feature.BORDERS)\n",
    "ax.add_feature(cartopy.feature.COASTLINE)\n",
    "ax.set_extent([-120, -80, 10, 40])\n",
    "ax.add_feature(cartopy.feature.LAND)\n",
    "ax.add_feature(cartopy.feature.OCEAN)\n",
    "ax.gridlines(draw_labels=True)\n",
    "cbar = plt.colorbar(im)\n",
    "cbar.set_label('USA WIND')\n",
    "ax.set_title('Cyclone Wilma')\n",
    "plt.show()"
   ]
  },
  {
   "cell_type": "code",
   "execution_count": 44,
   "id": "72540fe5",
   "metadata": {},
   "outputs": [],
   "source": [
    "data_R_odile = pyreadr.read_r('OUTPUTS/HISTORICAL_FOOTPRINTS/2014253N13260.Rdata')\n",
    "data_odile = data_R_odile[\"event_raster\"]\n",
    "data_odile[\"wind\"]=pd.to_numeric(data_odile[\"wind\"],errors='ignore')"
   ]
  },
  {
   "cell_type": "code",
   "execution_count": 45,
   "id": "2edc51ad",
   "metadata": {},
   "outputs": [
    {
     "data": {
      "image/png": "[encoded data removed]",
      "text/plain": [
       "<Figure size 432x288 with 2 Axes>"
      ]
     },
     "metadata": {
      "needs_background": "light"
     },
     "output_type": "display_data"
    }
   ],
   "source": [
    "lat = data_odile['glat']\n",
    "lon = data_odile['glon']\n",
    "wind = data_odile['wind']\n",
    "\n",
    "\n",
    "ax = plt.axes(projection=cartopy.crs.PlateCarree())\n",
    "im = ax.scatter(lon,lat,c=wind,cmap='viridis')\n",
    "ax.add_feature(cartopy.feature.BORDERS)\n",
    "ax.add_feature(cartopy.feature.COASTLINE)\n",
    "ax.set_extent([-120, -80, 10, 40])\n",
    "ax.add_feature(cartopy.feature.LAND)\n",
    "ax.add_feature(cartopy.feature.OCEAN)\n",
    "ax.gridlines(draw_labels=True)\n",
    "cbar = plt.colorbar(im)\n",
    "cbar.set_label('USA WIND')\n",
    "ax.set_title('Cyclone Odile')\n",
    "plt.show()"
   ]
  },
  {
   "cell_type": "code",
   "execution_count": 46,
   "id": "ab0fce46",
   "metadata": {},
   "outputs": [],
   "source": [
    "data_R_patricia = pyreadr.read_r('OUTPUTS/HISTORICAL_FOOTPRINTS/2015293N13266.Rdata')\n",
    "data_patricia = data_R_patricia[\"event_raster\"]\n",
    "data_patricia[\"wind\"]=pd.to_numeric(data_patricia[\"wind\"],errors='ignore')"
   ]
  },
  {
   "cell_type": "code",
   "execution_count": 47,
   "id": "01946e01",
   "metadata": {},
   "outputs": [
    {
     "data": {
      "image/png": "[encoded data removed]",
      "text/plain": [
       "<Figure size 432x288 with 2 Axes>"
      ]
     },
     "metadata": {
      "needs_background": "light"
     },
     "output_type": "display_data"
    }
   ],
   "source": [
    "lat = data_patricia['glat']\n",
    "lon = data_patricia['glon']\n",
    "wind = data_patricia['wind']\n",
    "\n",
    "\n",
    "ax = plt.axes(projection=cartopy.crs.PlateCarree())\n",
    "im = ax.scatter(lon,lat,c=wind,cmap='viridis')\n",
    "ax.add_feature(cartopy.feature.BORDERS)\n",
    "ax.add_feature(cartopy.feature.COASTLINE)\n",
    "ax.set_extent([-120, -80, 10, 40])\n",
    "ax.add_feature(cartopy.feature.LAND)\n",
    "ax.add_feature(cartopy.feature.OCEAN)\n",
    "ax.gridlines(draw_labels=True)\n",
    "cbar = plt.colorbar(im)\n",
    "cbar.set_label('USA WIND')\n",
    "ax.set_title('Cyclone Patricia')\n",
    "plt.show()"
   ]
  },
  {
   "cell_type": "code",
   "execution_count": null,
   "id": "84ece941",
   "metadata": {},
   "outputs": [],
   "source": []
  }
 ],
 "metadata": {
  "kernelspec": {
   "display_name": "Python 3 (ipykernel)",
   "language": "python",
   "name": "python3"
  },
  "language_info": {
   "codemirror_mode": {
    "name": "ipython",
    "version": 3
   },
   "file_extension": ".py",
   "mimetype": "text/x-python",
   "name": "python",
   "nbconvert_exporter": "python",
   "pygments_lexer": "ipython3",
   "version": "3.9.7"
  }
 },
 "nbformat": 4,
 "nbformat_minor": 5
}
